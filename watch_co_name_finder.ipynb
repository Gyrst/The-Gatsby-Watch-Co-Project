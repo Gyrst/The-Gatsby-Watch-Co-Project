{
 "cells": [
  {
   "cell_type": "markdown",
   "metadata": {},
   "source": [
    "# The Great Gatsby \"Old Sport\" Watch Co. \n",
    "\n",
    "\n",
    "There is some inspiration to get here:\n",
    "\n",
    "Summary creation article:\n",
    "\"https://towardsdatascience.com/summarizing-the-great-gatsby-using-natural-language-processing-9248ab8e9483\"\n",
    "\n",
    "Using the same data-Cleaning Process as in this Great Gatsby Themes article: \n",
    "https://towardsdatascience.com/thematic-analysis-of-the-great-gatsby-with-topic-modeling-1f27baae55f1"
   ]
  },
  {
   "cell_type": "markdown",
   "metadata": {},
   "source": [
    "### Useful imports"
   ]
  },
  {
   "cell_type": "code",
   "execution_count": 30,
   "metadata": {},
   "outputs": [
    {
     "name": "stderr",
     "output_type": "stream",
     "text": [
      "[nltk_data] Downloading package brown to /home/gugy/nltk_data...\n",
      "[nltk_data]   Package brown is already up-to-date!\n",
      "[nltk_data] Downloading package wordnet to /home/gugy/nltk_data...\n",
      "[nltk_data]   Package wordnet is already up-to-date!\n"
     ]
    }
   ],
   "source": [
    "import nltk\n",
    "nltk.download(\"brown\"), nltk.download(\"wordnet\")\n",
    "from textblob import TextBlob\n",
    "from textblob import Word\n",
    "from nltk.corpus import stopwords \n",
    "from random import randint"
   ]
  },
  {
   "cell_type": "markdown",
   "metadata": {},
   "source": [
    "### Reading & Preparing the Data\n",
    "\n",
    "+ taking the input from the .txt file. \n",
    "+ cleaning and preparing the data.\n",
    "+ tokenization\n",
    "+ stopword removal\n",
    "+ collect nouns"
   ]
  },
  {
   "cell_type": "code",
   "execution_count": 3,
   "metadata": {},
   "outputs": [],
   "source": [
    "with open(\"great_gatsby.txt\", 'r', encoding='ISO-8859-1') as gg:\n",
    "    lines = gg.readlines()"
   ]
  },
  {
   "cell_type": "code",
   "execution_count": 9,
   "metadata": {},
   "outputs": [],
   "source": [
    "primary_file = open(\"great_gatsby.txt\",\"r\",encoding='ISO-8859-1') \n",
    "primary = primary_file.read().replace('\"',' ').replace('’','\\'').split('\\n\\n')\n",
    "primary = [x.lower().replace('\\n', ' ') for x in primary if len(x)>500]\n",
    "\n",
    "primary_cleaned = []\n",
    "\n",
    "stop_words = set(stopwords.words('english')) \n"
   ]
  },
  {
   "cell_type": "code",
   "execution_count": 14,
   "metadata": {},
   "outputs": [],
   "source": [
    "for sent in primary:\n",
    "    tokens = ' '.join(TextBlob(sent).noun_phrases).split()\n",
    "    cleaned_sent=[]\n",
    "    for w in tokens:\n",
    "        w = Word(w).lemmatize()\n",
    "        if w not in stop_words and len(w)>4:\n",
    "            cleaned_sent.append(w)\n",
    "    if len(cleaned_sent)!=0:\n",
    "        primary_cleaned.append(' '.join(cleaned_sent))"
   ]
  },
  {
   "cell_type": "code",
   "execution_count": 24,
   "metadata": {},
   "outputs": [],
   "source": [
    "noun_phrases = set()\n",
    "\n",
    "for sent in primary_cleaned:\n",
    "    words = nltk.word_tokenize(sent)\n",
    "    for w in words:\n",
    "        noun_phrases.add(w)"
   ]
  },
  {
   "cell_type": "code",
   "execution_count": 28,
   "metadata": {},
   "outputs": [],
   "source": [
    "noun_phrases = list(noun_phrases)"
   ]
  },
  {
   "cell_type": "code",
   "execution_count": 65,
   "metadata": {},
   "outputs": [],
   "source": [
    "def create_random_name(n, words):\n",
    "    name = \"\"\n",
    "    for i in range(n):\n",
    "        r = randint(0, len(words)-1)\n",
    "        word = words[r]\n",
    "        name += \" \" + word\n",
    "    return name.strip()"
   ]
  },
  {
   "cell_type": "code",
   "execution_count": 66,
   "metadata": {},
   "outputs": [],
   "source": [
    "names_lst = []\n",
    "\n",
    "for i in range(1000):\n",
    "    names_lst.append(create_random_name(2,noun_phrases))"
   ]
  },
  {
   "cell_type": "code",
   "execution_count": 84,
   "metadata": {},
   "outputs": [],
   "source": [
    "def write_to_file(title, lst):\n",
    "    with open(title, \"w\") as g:\n",
    "        for name in lst:\n",
    "            g.write(name)\n",
    "            g.write('\\n')"
   ]
  },
  {
   "cell_type": "code",
   "execution_count": 83,
   "metadata": {},
   "outputs": [],
   "source": [
    "write_to_file(\"gatsby_watch_co_words.txt\", names_lst)"
   ]
  }
 ],
 "metadata": {
  "kernelspec": {
   "display_name": "Python 3.9.7 ('base')",
   "language": "python",
   "name": "python3"
  },
  "language_info": {
   "codemirror_mode": {
    "name": "ipython",
    "version": 3
   },
   "file_extension": ".py",
   "mimetype": "text/x-python",
   "name": "python",
   "nbconvert_exporter": "python",
   "pygments_lexer": "ipython3",
   "version": "3.9.7"
  },
  "orig_nbformat": 4,
  "vscode": {
   "interpreter": {
    "hash": "36e2581dfb10b7e3de3547be529c2e8e9e4d59798f578734b808d68ebdb931d0"
   }
  }
 },
 "nbformat": 4,
 "nbformat_minor": 2
}
